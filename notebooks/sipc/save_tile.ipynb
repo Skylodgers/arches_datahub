{
 "cells": [
  {
   "cell_type": "code",
   "execution_count": 2,
   "id": "94a055f3-b8ff-41cf-85fa-5f6aecf81e93",
   "metadata": {},
   "outputs": [
    {
     "name": "stdout",
     "output_type": "stream",
     "text": [
      "403\n"
     ]
    },
    {
     "data": {
      "text/plain": [
       "{}"
      ]
     },
     "execution_count": 2,
     "metadata": {},
     "output_type": "execute_result"
    }
   ],
   "source": [
    "import requests\n",
    "import json\n",
    "from requests.auth import HTTPBasicAuth\n",
    "url = 'http://localhost:8000/en/tile'\n",
    "\n",
    "response = requests.get(url)\n",
    "print(response.status_code)\n",
    "\n",
    "response.cookies.get_dict()"
   ]
  },
  {
   "cell_type": "code",
   "execution_count": null,
   "id": "5eb7ab7c-24da-4323-87bd-4379c1c79cec",
   "metadata": {},
   "outputs": [],
   "source": [
    "headers = {\n",
    "    'Content-Type': 'application/json',\n",
    "    'X-CSRFToken': csrf_token    \n",
    "}\n",
    "\n",
    "data = {\n",
    "    \"tileid\": \"\",\n",
    "    \"data\": {\n",
    "        \"50edb8bc-a6bb-11ed-a9f8-96a6d245525a\": None,\n",
    "        \"a4925e52-a6b9-11ed-a9f8-96a6d245525a\": None,\n",
    "        \"c9731466-a702-11ed-8ace-96a6d245525a\": \"https://www.google.com/\",\n",
    "        \"c97315ec-a702-11ed-8ace-96a6d245525a\": \"a30683b5-963a-4d32-8720-ce458b778a41\"\n",
    "    },\n",
    "    \"nodegroup_id\": \"d1dcda84-a5fe-11ec-b19f-9cf387da2c40\",\n",
    "    \"parenttile_id\": None,\n",
    "    \"resourceinstance_id\": \"05e4dbf0-f8bd-42e5-9f43-4ded8c6dc7d0\",\n",
    "    \"sortorder\": 0,\n",
    "    \"tiles\": {}\n",
    "}\n",
    "\n",
    "json_data = json.dumps(data)\n",
    "response = requests.post(url, data=json_data, headers=headers)\n",
    "print(response.status_code)"
   ]
  },
  {
   "cell_type": "code",
   "execution_count": null,
   "id": "39558a25-885b-4710-b40d-7e559e37e200",
   "metadata": {},
   "outputs": [],
   "source": []
  }
 ],
 "metadata": {
  "kernelspec": {
   "display_name": "Python 3 (ipykernel)",
   "language": "python",
   "name": "python3"
  },
  "language_info": {
   "codemirror_mode": {
    "name": "ipython",
    "version": 3
   },
   "file_extension": ".py",
   "mimetype": "text/x-python",
   "name": "python",
   "nbconvert_exporter": "python",
   "pygments_lexer": "ipython3",
   "version": "3.9.6"
  }
 },
 "nbformat": 4,
 "nbformat_minor": 5
}
