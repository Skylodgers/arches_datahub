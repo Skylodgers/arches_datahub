{
 "cells": [
  {
   "cell_type": "code",
   "execution_count": 2,
   "id": "989c8819-f8a6-443b-94cc-234a21a9bc0c",
   "metadata": {},
   "outputs": [],
   "source": [
    "import csv\n",
    "from rdflib import Graph, Namespace, URIRef, Literal\n",
    "from rdflib.namespace import RDF, SKOS, DCTERMS\n",
    "import uuid\n",
    "from django.core.serializers.json import DjangoJSONEncoder\n",
    "\n",
    "thesauri_type = 'flat' #flat|nested\n",
    "thesauri_levels = 1\n",
    "NS = Namespace(\"https://metadata.vlaanderen.be/id/GDI-Vlaanderen-Trefwoorden/TOEGEVOEGDGDIVL\")"
   ]
  },
  {
   "cell_type": "code",
   "execution_count": 6,
   "id": "5a4e7b5d-636f-4f75-a011-7140f97c5c00",
   "metadata": {
    "tags": []
   },
   "outputs": [],
   "source": [
    "file = 'concepts/GDI-Vlaanderen-trefwoorden.xml'"
   ]
  },
  {
   "cell_type": "code",
   "execution_count": 12,
   "id": "ad47b1e6-9346-496c-affc-79d8b8ffa855",
   "metadata": {},
   "outputs": [
    {
     "name": "stdout",
     "output_type": "stream",
     "text": [
      "<?xml version=\"1.0\" encoding=\"utf-8\"?>\n",
      "<rdf:RDF\n",
      "  xmlns:skos=\"http://www.w3.org/2004/02/skos/core#\"\n",
      "  xmlns:foaf=\"http://xmlns.com/foaf/0.1/\"\n",
      "  xmlns:dc=\"http://purl.org/dc/elements/1.1/\"\n",
      "  xmlns:dcterms=\"http://purl.org/dc/terms/\"\n",
      "  xmlns:rdf=\"http://www.w3.org/1999/02/22-rdf-syntax-ns#\"\n",
      ">\n",
      "  <skos:Concept rdf:about=\"https://metadata.vlaanderen.be/id/GDI-Vlaanderen-Trefwoorden/KOSTELOOS\">\n",
      "    <skos:prefLabel xml:lang=\"nl\">Kosteloos</skos:prefLabel>\n",
      "    <skos:prefLabel xml:lang=\"fr\">Kosteloos</skos:prefLabel>\n",
      "    <skos:prefLabel xml:lang=\"en\">Kosteloos</skos:prefLabel>\n",
      "    <skos:inScheme>\n",
      "      <skos:ConceptScheme rdf:about=\"https://metadata.vlaanderen.be/id/GDI-Vlaanderen-Trefwoorden\">\n",
      "        <dcterms:issued>2014-02-26</dcterms:issued>\n",
      "        <dc:rights>Vrij gebruik</dc:rights>\n",
      "        <dc:description>GDI-Vlaanderen Trefwoorden</dc:description>\n",
      "        <dc:title>GDI-Vlaanderen Trefwoorden</dc:title>\n",
      "        <dcterms:modified>2022-07-12</dcterms:modified>\n",
      "        <dc:creator>\n",
      "          <foaf:Organization rdf:nodeID=\"Naa874c2a9e4d45699e09269fba9afe62\">\n",
      "            <foaf:name>agentschap Digitaal Vlaanderen</foaf:name>\n",
      "          </foaf:Organization>\n",
      "        </dc:creator>\n",
      "      </skos:ConceptScheme>\n",
      "    </skos:inScheme>\n",
      "    <skos:prefLabel xml:lang=\"de\">Kosteloos</skos:prefLabel>\n",
      "  </skos:Concept>\n",
      "  <skos:Concept rdf:about=\"https://metadata.vlaanderen.be/id/GDI-Vlaanderen-Trefwoorden/VLOPENDATASERVICE\">\n",
      "    <skos:prefLabel xml:lang=\"en\">Vlaamse Open data Service</skos:prefLabel>\n",
      "    <skos:prefLabel xml:lang=\"fr\">Vlaamse Open data Service</skos:prefLabel>\n",
      "    <skos:prefLabel xml:lang=\"de\">Vlaamse Open data Service</skos:prefLabel>\n",
      "    <skos:prefLabel xml:lang=\"nl\">Vlaamse Open data Service</skos:prefLabel>\n",
      "    <skos:inScheme rdf:resource=\"https://metadata.vlaanderen.be/id/GDI-Vlaanderen-Trefwoorden\"/>\n",
      "  </skos:Concept>\n",
      "  <skos:Concept rdf:about=\"https://metadata.vlaanderen.be/id/GDI-Vlaanderen-Trefwoorden/VLOPENDATA\">\n",
      "    <skos:prefLabel xml:lang=\"de\">Vlaamse Open data</skos:prefLabel>\n",
      "    <skos:prefLabel xml:lang=\"nl\">Vlaamse Open data</skos:prefLabel>\n",
      "    <skos:inScheme rdf:resource=\"https://metadata.vlaanderen.be/id/GDI-Vlaanderen-Trefwoorden\"/>\n",
      "    <skos:prefLabel xml:lang=\"fr\">Vlaamse Open data</skos:prefLabel>\n",
      "    <skos:prefLabel xml:lang=\"en\">Vlaamse Open data</skos:prefLabel>\n",
      "  </skos:Concept>\n",
      "  <skos:Concept rdf:about=\"https://metadata.vlaanderen.be/id/GDI-Vlaanderen-Trefwoorden/LIJSTMRINSPIRE\">\n",
      "    <skos:prefLabel xml:lang=\"en\">Lijst M&amp;R INSPIRE</skos:prefLabel>\n",
      "    <skos:inScheme rdf:resource=\"https://metadata.vlaanderen.be/id/GDI-Vlaanderen-Trefwoorden\"/>\n",
      "    <skos:prefLabel xml:lang=\"de\">Lijst M&amp;R INSPIRE</skos:prefLabel>\n",
      "    <skos:prefLabel xml:lang=\"fr\">Lijst M&amp;R INSPIRE</skos:prefLabel>\n",
      "    <skos:prefLabel xml:lang=\"nl\">Lijst M&amp;R INSPIRE</skos:prefLabel>\n",
      "  </skos:Concept>\n",
      "  <skos:Concept rdf:about=\"https://metadata.vlaanderen.be/id/GDI-Vlaanderen-Trefwoorden/GEODATA\">\n",
      "    <skos:prefLabel xml:lang=\"fr\">Geografische gegevens</skos:prefLabel>\n",
      "    <skos:prefLabel xml:lang=\"en\">Geografische gegevens</skos:prefLabel>\n",
      "    <skos:prefLabel xml:lang=\"nl\">Geografische gegevens</skos:prefLabel>\n",
      "    <skos:prefLabel xml:lang=\"de\">Geografische gegevens</skos:prefLabel>\n",
      "    <skos:inScheme rdf:resource=\"https://metadata.vlaanderen.be/id/GDI-Vlaanderen-Trefwoorden\"/>\n",
      "  </skos:Concept>\n",
      "  <skos:Concept rdf:about=\"https://metadata.vlaanderen.be/id/GDI-Vlaanderen-Trefwoorden/MDINSPIRECONFORM\">\n",
      "    <skos:inScheme rdf:resource=\"https://metadata.vlaanderen.be/id/GDI-Vlaanderen-Trefwoorden\"/>\n",
      "    <skos:prefLabel xml:lang=\"nl\">Metadata INSPIRE-conform</skos:prefLabel>\n",
      "    <skos:prefLabel xml:lang=\"en\">Metadata INSPIRE-conform</skos:prefLabel>\n",
      "    <skos:prefLabel xml:lang=\"de\">Metadata INSPIRE-conform</skos:prefLabel>\n",
      "    <skos:prefLabel xml:lang=\"fr\">Metadata INSPIRE-conform</skos:prefLabel>\n",
      "  </skos:Concept>\n",
      "  <skos:Concept rdf:about=\"https://metadata.vlaanderen.be/id/GDI-Vlaanderen-Trefwoorden/TOEGEVOEGDGDIVL\">\n",
      "    <skos:prefLabel xml:lang=\"nl\">Toegevoegd GDI-Vl</skos:prefLabel>\n",
      "    <skos:prefLabel xml:lang=\"fr\">Toegevoegd GDI-Vl</skos:prefLabel>\n",
      "    <skos:prefLabel xml:lang=\"de\">Toegevoegd GDI-Vl</skos:prefLabel>\n",
      "    <skos:prefLabel xml:lang=\"en\">Toegevoegd GDI-Vl</skos:prefLabel>\n",
      "    <skos:inScheme rdf:resource=\"https://metadata.vlaanderen.be/id/GDI-Vlaanderen-Trefwoorden\"/>\n",
      "  </skos:Concept>\n",
      "  <skos:Concept rdf:about=\"https://metadata.vlaanderen.be/id/GDI-Vlaanderen-Trefwoorden/MDGDICONFORM\">\n",
      "    <skos:prefLabel xml:lang=\"de\">Metadata GDI-Vl-conform</skos:prefLabel>\n",
      "    <skos:inScheme rdf:resource=\"https://metadata.vlaanderen.be/id/GDI-Vlaanderen-Trefwoorden\"/>\n",
      "    <skos:prefLabel xml:lang=\"fr\">Metadata GDI-Vl-conform</skos:prefLabel>\n",
      "    <skos:prefLabel xml:lang=\"nl\">Metadata GDI-Vl-conform</skos:prefLabel>\n",
      "    <skos:prefLabel xml:lang=\"en\">Metadata GDI-Vl-conform</skos:prefLabel>\n",
      "  </skos:Concept>\n",
      "  <skos:Concept rdf:about=\"https://metadata.vlaanderen.be/id/GDI-Vlaanderen-Trefwoorden/HERBRUIKBAAR\">\n",
      "    <skos:prefLabel xml:lang=\"fr\">Herbruikbaar</skos:prefLabel>\n",
      "    <skos:inScheme rdf:resource=\"https://metadata.vlaanderen.be/id/GDI-Vlaanderen-Trefwoorden\"/>\n",
      "    <skos:prefLabel xml:lang=\"en\">Herbruikbaar</skos:prefLabel>\n",
      "    <skos:prefLabel xml:lang=\"nl\">Herbruikbaar</skos:prefLabel>\n",
      "    <skos:prefLabel xml:lang=\"de\">Herbruikbaar</skos:prefLabel>\n",
      "  </skos:Concept>\n",
      "</rdf:RDF>\n",
      "\n"
     ]
    }
   ],
   "source": [
    "g = Graph()\n",
    "g.bind(\"ns\", NS)\n",
    "g.bind(\"skos\", SKOS)\n",
    "g.bind(\"dcterms\", DCTERMS)\n",
    "        \n",
    "g.parse(file, format=\"xml\")\n",
    "\n",
    "# Serialize the graph to pretty-xml format\n",
    "pretty_xml_output = g.serialize(format=\"pretty-xml\", encoding=\"utf-8\")\n",
    "\n",
    "# Write the serialized output to a file or print it\n",
    "with open(\"concepts/GDI-Vlaanderen-trefwoorden_pretty.xml\", \"wb\") as f:\n",
    "    f.write(pretty_xml_output)\n",
    "\n",
    "# Alternatively, if you just want to print it\n",
    "print(pretty_xml_output.decode(\"utf-8\"))\n"
   ]
  },
  {
   "cell_type": "code",
   "execution_count": 9,
   "id": "ed34d63e-7a12-40ae-a75b-1dab36cb7d7b",
   "metadata": {},
   "outputs": [],
   "source": [
    "test = 'https://data.antwerp.be/id/concept/brocade-catalog/relation_ty:oth'"
   ]
  },
  {
   "cell_type": "code",
   "execution_count": null,
   "id": "7dc1540d-474a-49e2-bee5-54405534fc76",
   "metadata": {},
   "outputs": [],
   "source": [
    "print(test.split('/')[6])"
   ]
  },
  {
   "cell_type": "code",
   "execution_count": null,
   "id": "ebc22040-6ace-4e76-99be-a6e14e1fa858",
   "metadata": {},
   "outputs": [],
   "source": []
  }
 ],
 "metadata": {
  "kernelspec": {
   "display_name": "Python 3 (ipykernel)",
   "language": "python",
   "name": "python3"
  },
  "language_info": {
   "codemirror_mode": {
    "name": "ipython",
    "version": 3
   },
   "file_extension": ".py",
   "mimetype": "text/x-python",
   "name": "python",
   "nbconvert_exporter": "python",
   "pygments_lexer": "ipython3",
   "version": "3.11.9"
  }
 },
 "nbformat": 4,
 "nbformat_minor": 5
}
